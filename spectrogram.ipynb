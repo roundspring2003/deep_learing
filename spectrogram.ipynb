{
 "cells": [
  {
   "cell_type": "code",
   "execution_count": 40,
   "metadata": {},
   "outputs": [],
   "source": [
    "import librosa\n",
    "import librosa.display\n",
    "import matplotlib.pyplot as plt\n",
    "import os\n",
    "from PIL import Image\n",
    "import numpy as np"
   ]
  },
  {
   "cell_type": "code",
   "execution_count": 46,
   "metadata": {},
   "outputs": [],
   "source": [
    "folder_path = 'Dataset_wav'\n",
    "folder_path_png='Dataset_png'\n",
    "for file_name in os.listdir(folder_path):\n",
    "    file_path=os.path.join(folder_path,file_name)\n",
    "    audio_data, sample_rate = librosa.load(file_path)\n",
    "    audio_data = librosa.stft(audio_data)\n",
    "    audio_data = librosa.amplitude_to_db(abs(audio_data))\n",
    "    plt.figure()\n",
    "    librosa.display.specshow(audio_data, sr=sample_rate)\n",
    "    plt.axis('off')\n",
    "    plt.tight_layout(pad=0)\n",
    "    plt.savefig(os.path.join(folder_path_png,file_name.replace(\"wav\",\"png\")))\n",
    "    plt.close()\n",
    "    spectrogram = Image.open(os.path.join(folder_path_png,file_name.replace(\"wav\",\"png\")))\n",
    "    spectrogram = spectrogram.convert('L')\n",
    "    spectrogram.save(os.path.join(folder_path_png,file_name.replace(\"wav\",\"png\")))"
   ]
  }
 ],
 "metadata": {
  "kernelspec": {
   "display_name": "pytorch-venv",
   "language": "python",
   "name": "python3"
  },
  "language_info": {
   "codemirror_mode": {
    "name": "ipython",
    "version": 3
   },
   "file_extension": ".py",
   "mimetype": "text/x-python",
   "name": "python",
   "nbconvert_exporter": "python",
   "pygments_lexer": "ipython3",
   "version": "3.6.13"
  }
 },
 "nbformat": 4,
 "nbformat_minor": 2
}
