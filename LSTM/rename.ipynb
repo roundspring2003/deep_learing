{
 "cells": [
  {
   "cell_type": "code",
   "execution_count": 8,
   "metadata": {},
   "outputs": [
    {
     "ename": "FileExistsError",
     "evalue": "[WinError 183] 當檔案已存在時，無法建立該檔案。: '未命名/up/up49.wav' -> '未命名/up/up50.wav'",
     "output_type": "error",
     "traceback": [
      "\u001b[1;31m---------------------------------------------------------------------------\u001b[0m",
      "\u001b[1;31mFileExistsError\u001b[0m                           Traceback (most recent call last)",
      "Cell \u001b[1;32mIn[8], line 20\u001b[0m\n\u001b[0;32m     17\u001b[0m     new_path \u001b[38;5;241m=\u001b[39m os\u001b[38;5;241m.\u001b[39mpath\u001b[38;5;241m.\u001b[39mjoin(folder_path, new_name)\n\u001b[0;32m     19\u001b[0m     \u001b[38;5;66;03m# 重命名文件\u001b[39;00m\n\u001b[1;32m---> 20\u001b[0m     \u001b[43mos\u001b[49m\u001b[38;5;241;43m.\u001b[39;49m\u001b[43mrename\u001b[49m\u001b[43m(\u001b[49m\u001b[43mold_path\u001b[49m\u001b[43m,\u001b[49m\u001b[43m \u001b[49m\u001b[43mnew_path\u001b[49m\u001b[43m)\u001b[49m\n\u001b[0;32m     21\u001b[0m     i \u001b[38;5;241m+\u001b[39m\u001b[38;5;241m=\u001b[39m \u001b[38;5;241m1\u001b[39m\n\u001b[0;32m     23\u001b[0m \u001b[38;5;28mprint\u001b[39m(\u001b[38;5;124m\"\u001b[39m\u001b[38;5;124m文件重命名完成！\u001b[39m\u001b[38;5;124m\"\u001b[39m)\n",
      "\u001b[1;31mFileExistsError\u001b[0m: [WinError 183] 當檔案已存在時，無法建立該檔案。: '未命名/up/up49.wav' -> '未命名/up/up50.wav'"
     ]
    }
   ],
   "source": [
    "import os\n",
    "\n",
    "# 指定包含.wav文件的文件夹路径\n",
    "folder_path = '未命名/up/'\n",
    "\n",
    "# 获取文件夹中所有文件的列表\n",
    "file_list = os.listdir(folder_path)\n",
    "\n",
    "i = 50\n",
    "# 遍历文件列表\n",
    "for old_name in file_list:\n",
    "    # 构建新的文件名，你可以根据需要修改命名规则\n",
    "    new_name = f\"up{i}.wav\"\n",
    "\n",
    "    # 构建完整的文件路径\n",
    "    old_path = os.path.join(folder_path, old_name)\n",
    "    new_path = os.path.join(folder_path, new_name)\n",
    "    \n",
    "    # 重命名文件\n",
    "    os.rename(old_path, new_path)\n",
    "    i += 1\n",
    "\n",
    "print(\"文件重命名完成！\")\n"
   ]
  }
 ],
 "metadata": {
  "kernelspec": {
   "display_name": "pytorch-venv",
   "language": "python",
   "name": "python3"
  },
  "language_info": {
   "codemirror_mode": {
    "name": "ipython",
    "version": 3
   },
   "file_extension": ".py",
   "mimetype": "text/x-python",
   "name": "python",
   "nbconvert_exporter": "python",
   "pygments_lexer": "ipython3",
   "version": "3.9.7"
  }
 },
 "nbformat": 4,
 "nbformat_minor": 2
}
