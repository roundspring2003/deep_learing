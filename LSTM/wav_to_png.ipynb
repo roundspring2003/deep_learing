{
 "cells": [
  {
   "cell_type": "code",
   "execution_count": 5,
   "metadata": {},
   "outputs": [],
   "source": [
    "import librosa\n",
    "import librosa.display\n",
    "import matplotlib.pyplot as plt\n",
    "from PIL import Image\n",
    "import numpy as np\n",
    "import os"
   ]
  },
  {
   "cell_type": "code",
   "execution_count": 6,
   "metadata": {},
   "outputs": [],
   "source": [
    "folder_path = 'Dataset_wav'\n",
    "file_list = os.listdir(folder_path)\n",
    "\n",
    "for file_name in file_list:\n",
    "    file_path = folder_path + '/' + file_name\n",
    "    audio_data, sample_rate = librosa.load(file_path)\n",
    "    audio_data = librosa.stft(audio_data)\n",
    "    audio_data = librosa.amplitude_to_db(abs(audio_data))\n",
    "\n",
    "    plt.figure()\n",
    "    plt.axis('off')\n",
    "    plt.tight_layout(pad=0)\n",
    "    librosa.display.specshow(audio_data, sr=sample_rate)\n",
    "\n",
    "    output_path = os.path.join('Dataset_png', f\"{file_name[:-4]}.png\")\n",
    "    plt.savefig(output_path)\n",
    "    plt.close()\n",
    "\n",
    "    spectrogram = Image.open(output_path)\n",
    "    spectrogram = spectrogram.convert('L')\n",
    "    spectrogram.save(output_path)"
   ]
  }
 ],
 "metadata": {
  "kernelspec": {
   "display_name": "pytorch-venv",
   "language": "python",
   "name": "python3"
  },
  "language_info": {
   "codemirror_mode": {
    "name": "ipython",
    "version": 3
   },
   "file_extension": ".py",
   "mimetype": "text/x-python",
   "name": "python",
   "nbconvert_exporter": "python",
   "pygments_lexer": "ipython3",
   "version": "3.9.7"
  }
 },
 "nbformat": 4,
 "nbformat_minor": 2
}
