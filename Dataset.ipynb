{
 "cells": [
  {
   "cell_type": "code",
   "execution_count": 42,
   "metadata": {},
   "outputs": [],
   "source": [
    "from PIL import Image\n",
    "from torchvision import transforms\n",
    "from torch.utils.data import Dataset , DataLoader\n",
    "import numpy as np\n",
    "import torch.nn as nn\n",
    "import os\n",
    "import torch"
   ]
  },
  {
   "cell_type": "code",
   "execution_count": 43,
   "metadata": {},
   "outputs": [],
   "source": [
    "folder_path = \"./Dataset_png\"\n",
    "target_list={}\n",
    "data={}\n",
    "to_tensor = transforms.ToTensor()\n",
    "for number,file_name in enumerate( os.listdir(folder_path)):\n",
    "    file_path=os.path.join(folder_path,file_name)\n",
    "    image=Image.open(file_path)\n",
    "    image_tensor=to_tensor(image)\n",
    "    if file_name.startswith(\"front\"):\n",
    "        target_list[number]=\"front\"\n",
    "    elif  file_name.startswith(\"back\"):\n",
    "        target_list[number]=\"back\"\n",
    "    data[number]=image_tensor"
   ]
  },
  {
   "cell_type": "code",
   "execution_count": 44,
   "metadata": {},
   "outputs": [
    {
     "data": {
      "text/plain": [
       "torch.Size([1, 288, 432, 202])"
      ]
     },
     "execution_count": 44,
     "metadata": {},
     "output_type": "execute_result"
    }
   ],
   "source": [
    "imgs = torch.stack(list(data.values()), dim=3)\n",
    "imgs.shape"
   ]
  },
  {
   "cell_type": "code",
   "execution_count": 45,
   "metadata": {},
   "outputs": [
    {
     "data": {
      "text/plain": [
       "tensor([0.0547])"
      ]
     },
     "execution_count": 45,
     "metadata": {},
     "output_type": "execute_result"
    }
   ],
   "source": [
    "imgs.view(1, -1).mean(dim=1) "
   ]
  },
  {
   "cell_type": "code",
   "execution_count": 46,
   "metadata": {},
   "outputs": [
    {
     "data": {
      "text/plain": [
       "tensor([0.1238])"
      ]
     },
     "execution_count": 46,
     "metadata": {},
     "output_type": "execute_result"
    }
   ],
   "source": [
    "imgs.view(1, -1).std(dim=1)"
   ]
  },
  {
   "cell_type": "code",
   "execution_count": 47,
   "metadata": {},
   "outputs": [],
   "source": [
    "to_tensor = transforms.Compose([transforms.Resize([288,288]),\n",
    "                                transforms.ToTensor(),\n",
    "                                transforms.Normalize((0.0547), #各通道的平均值\n",
    "                                                     (0.1238))])\n",
    "\n",
    "for number,file_name in enumerate( os.listdir(folder_path)):\n",
    "    file_path=os.path.join(folder_path,file_name)\n",
    "    image=Image.open(file_path)\n",
    "    image_tensor=to_tensor(image)\n",
    "    if file_name.startswith(\"front\"):\n",
    "        target_list[number]=0\n",
    "    elif  file_name.startswith(\"back\"):\n",
    "        target_list[number]=1\n",
    "    data[number]=image_tensor"
   ]
  },
  {
   "cell_type": "code",
   "execution_count": 48,
   "metadata": {},
   "outputs": [],
   "source": [
    "def data_loader(file_path):\n",
    "    image=Image.open(file_path)\n",
    "    image_tensor=to_tensor(image)\n",
    "    return image_tensor\n",
    "#照片的所有路徑\n",
    "images_path=[]\n",
    "for filename in os.listdir(folder_path):\n",
    "    file_path=os.path.join(folder_path,filename)\n",
    "    images_path.append(file_path)"
   ]
  },
  {
   "cell_type": "code",
   "execution_count": 49,
   "metadata": {},
   "outputs": [
    {
     "data": {
      "text/plain": [
       "torch.Size([202])"
      ]
     },
     "execution_count": 49,
     "metadata": {},
     "output_type": "execute_result"
    }
   ],
   "source": [
    "#target換成tensor\n",
    "data_target_t=torch.tensor(list(target_list.values()))\n",
    "data_target_t.shape"
   ]
  },
  {
   "cell_type": "code",
   "execution_count": 50,
   "metadata": {},
   "outputs": [],
   "source": [
    "#建立自己的資料集\n",
    "class TrainSet(Dataset):\n",
    "    def __init__(self,loader=data_loader):\n",
    "        self.images=images_path\n",
    "        self.target=data_target_t\n",
    "        self.loader=loader\n",
    "    def __getitem__(self,index):\n",
    "        fn=self.images[index]\n",
    "        img = self.loader(fn)\n",
    "        target=self.target[index]\n",
    "        return img , target\n",
    "    def __len__(self):\n",
    "        return len(self.images)"
   ]
  },
  {
   "cell_type": "code",
   "execution_count": 51,
   "metadata": {},
   "outputs": [],
   "source": [
    "class Net(nn.Module):\n",
    "    def __init__(self):\n",
    "        super().__init__()\n",
    "        self.conv1 = nn.Conv2d(1, 16, kernel_size=3, padding=1) \n",
    "        self.act1 = nn.Tanh()\n",
    "        self.pool1 = nn.MaxPool2d(2) \n",
    "        self.conv2 = nn.Conv2d(16, 8, kernel_size=3, padding=1) \n",
    "        self.act2 = nn.Tanh()\n",
    "        self.pool2 = nn.MaxPool2d(2)\n",
    "        self.fc1 = nn.Linear(8 * 72 * 72, 32) \n",
    "        self.act3 = nn.Tanh()\n",
    "        self.fc2 = nn.Linear(32, 2)\n",
    "\n",
    "    def forward(self, x):\n",
    "        out = self.pool1(self.act1(self.conv1(x)))\n",
    "        out = self.pool2(self.act2(self.conv2(out)))\n",
    "        out = out.view(-1, 8 * 72 * 72)  #之前省略的部分（扁平化卷積模組的輸出）\n",
    "        out = self.act3(self.fc1(out))\n",
    "        out = self.fc2(out)\n",
    "        return out"
   ]
  },
  {
   "cell_type": "code",
   "execution_count": 52,
   "metadata": {},
   "outputs": [],
   "source": [
    "import datetime \n",
    "def training_loop(n_epochs, optimizer, model, loss_fn, train_loader):\n",
    "    for epoch in range(1, n_epochs + 1):  #控制訓練週期的迴圈，注意範圍是從1開始到n_epochs，而非從0開始\n",
    "        loss_train = 0.0\n",
    "        for imgs, labels in train_loader:  #走訪train_loader，每次會取出一批次的訓練資料及標籤\n",
    "            outputs = model(imgs)  #將一批次資料餵入模型中\n",
    "            loss = loss_fn(outputs, labels)  #計算損失（最小化的目標）\n",
    "            optimizer.zero_grad()  #將上一輪的梯度清除\n",
    "            loss.backward()  #反向運行一次，以便取得損失對所有可訓練參數的梯度 \n",
    "            optimizer.step()  #更新模型參數\n",
    "            loss_train += loss.item()  #將此次訓練週期中的所有損失加總起來；請記得，必須用item()將損失轉換為Python中的數字\n",
    "        if epoch == 1 or epoch % 10 == 0:\n",
    "            print('{} Epoch {}, Training loss {}'.format(\n",
    "                datetime.datetime.now(), epoch,\n",
    "                loss_train / len(train_loader)))  #將損失總和除以批次量（即train_loader的長度），以取得每批次的平均損失（相較於總和，以平均值來測量損失更加直觀）"
   ]
  },
  {
   "cell_type": "code",
   "execution_count": 53,
   "metadata": {},
   "outputs": [
    {
     "name": "stdout",
     "output_type": "stream",
     "text": [
      "2023-12-17 18:37:55.910053 Epoch 1, Training loss 0.7730515748262405\n",
      "2023-12-17 18:38:14.850264 Epoch 10, Training loss 0.4884546399116516\n",
      "2023-12-17 18:38:35.833419 Epoch 20, Training loss 0.32774411886930466\n",
      "2023-12-17 18:38:56.889150 Epoch 30, Training loss 0.1525781136006117\n",
      "2023-12-17 18:39:18.034051 Epoch 40, Training loss 0.10002916678786278\n",
      "2023-12-17 18:39:39.023143 Epoch 50, Training loss 0.06670167483389378\n",
      "2023-12-17 18:40:00.588076 Epoch 60, Training loss 0.04897028859704733\n",
      "2023-12-17 18:40:22.194997 Epoch 70, Training loss 0.04139694198966026\n",
      "2023-12-17 18:40:43.466262 Epoch 80, Training loss 0.031691205222159624\n",
      "2023-12-17 18:41:04.500306 Epoch 90, Training loss 0.026067625731229782\n",
      "2023-12-17 18:41:25.842527 Epoch 100, Training loss 0.055695123039186\n"
     ]
    }
   ],
   "source": [
    "model = Net()#建立一個Net()物件\n",
    "train_data = TrainSet()\n",
    "train_loader = DataLoader(train_data, batch_size=64, shuffle=True)  #先將cifar資料集隨機洗牌，然後我們每次讀取時會由其中抽取一批次（64筆）的資料\n",
    "model = Net()  #建立模型\n",
    "optimizer = torch.optim.SGD(model.parameters(), lr=1e-2)  #隨機梯度下降優化器\n",
    "loss_fn = nn.CrossEntropyLoss()  #第7.10節中提過的交叉熵損失函數\n",
    "\n",
    "training_loop(  #呼叫稍早之前定義的訓練迴圈\n",
    "    n_epochs = 100,\n",
    "    optimizer = optimizer,\n",
    "    model = model,\n",
    "    loss_fn = loss_fn,\n",
    "    train_loader = train_loader,\n",
    ")"
   ]
  },
  {
   "cell_type": "code",
   "execution_count": 64,
   "metadata": {},
   "outputs": [
    {
     "data": {
      "text/plain": [
       "(tensor([[-2.5552,  2.5873]], grad_fn=<AddmmBackward0>), tensor([1]))"
      ]
     },
     "execution_count": 64,
     "metadata": {},
     "output_type": "execute_result"
    }
   ],
   "source": [
    "imgs=data_loader(\"./Valid_png/front2.png\")\n",
    "imgs=imgs.unsqueeze(0)\n",
    "outputs=model(imgs)\n",
    "_, predicted = torch.max(outputs, dim=1) #取得最大值所在的索引，並存進predicted陣列\n",
    "outputs,predicted"
   ]
  }
 ],
 "metadata": {
  "kernelspec": {
   "display_name": "pytorch",
   "language": "python",
   "name": "python3"
  },
  "language_info": {
   "codemirror_mode": {
    "name": "ipython",
    "version": 3
   },
   "file_extension": ".py",
   "mimetype": "text/x-python",
   "name": "python",
   "nbconvert_exporter": "python",
   "pygments_lexer": "ipython3",
   "version": "3.6.13"
  }
 },
 "nbformat": 4,
 "nbformat_minor": 2
}
